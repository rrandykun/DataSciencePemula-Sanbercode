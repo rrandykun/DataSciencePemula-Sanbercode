{
  "nbformat": 4,
  "nbformat_minor": 0,
  "metadata": {
    "kernelspec": {
      "display_name": "Python 3",
      "language": "python",
      "name": "python3"
    },
    "language_info": {
      "codemirror_mode": {
        "name": "ipython",
        "version": 3
      },
      "file_extension": ".py",
      "mimetype": "text/x-python",
      "name": "python",
      "nbconvert_exporter": "python",
      "pygments_lexer": "ipython3",
      "version": "3.7.7"
    },
    "colab": {
      "name": "Tugas Hari 3_Randy.ipynb",
      "provenance": [],
      "collapsed_sections": []
    }
  },
  "cells": [
    {
      "cell_type": "markdown",
      "metadata": {
        "id": "a9HYUdCUsrKl"
      },
      "source": [
        "<h2>Soal 1: Comparison Operator</h2>\n",
        "\n",
        "- Berikan contoh comparison dari tipe data string\n",
        "- Berikan contoh comparison dari tipe data boolean\n",
        "- Berikan contoh comparison dari tipe data integer"
      ]
    },
    {
      "cell_type": "code",
      "metadata": {
        "id": "lXMCHZ71srKp",
        "outputId": "bfde5843-2a6e-4c89-c567-19aa7b33449a",
        "colab": {
          "base_uri": "https://localhost:8080/"
        }
      },
      "source": [
        "str1 = 'RANDY'\n",
        "str2 = 'randy'\n",
        "bool1 = True\n",
        "bool2 = False\n",
        "int1 = 25\n",
        "int2 = 10\n",
        "cstr = str1==str2\n",
        "cbool = bool1!=bool2\n",
        "cint = int1>=int2\n",
        "print('Contoh comparison tipe data string  : \"{0}\" == \"{1}\" hasilnya adalah {2}'.format(str1, str2, cstr))\n",
        "print('Contoh comparison tipe data boolean : {0} != {1} hasilnya adalah {2}'.format(bool1, bool2, cbool))\n",
        "print('Contoh comparison tipe data integer : {0} >= {1} hasilnya adalah {2}'.format(int1, int2, cint))"
      ],
      "execution_count": null,
      "outputs": [
        {
          "output_type": "stream",
          "text": [
            "Contoh comparison tipe data string  : \"RANDY\" == \"randy\" hasilnya adalah False\n",
            "Contoh comparison tipe data boolean : True != False hasilnya adalah True\n",
            "Contoh comparison tipe data integer : 25 >= 10 hasilnya adalah True\n"
          ],
          "name": "stdout"
        }
      ]
    },
    {
      "cell_type": "markdown",
      "metadata": {
        "id": "IbNoZvVssrK5"
      },
      "source": [
        "<h2>Soal 2: Boolean Comparison</h2>\n",
        "\n",
        "- Berikan contoh gabungan multiple comparison menggunkan Boolean Comparisin 'and'\n",
        "- Berikan contoh gabungan multiple comparison menggunkan Boolean Comparisin 'or'\n",
        "- Berikan contoh gabungan multiple comparison menggunkan Boolean Comparisin 'not'"
      ]
    },
    {
      "cell_type": "code",
      "metadata": {
        "id": "7eU1vPLCsrK7",
        "outputId": "06729bfe-af50-48c6-ea9b-2bab08066da2",
        "colab": {
          "base_uri": "https://localhost:8080/"
        }
      },
      "source": [
        "print('Contoh gabungan multiple comparison menggunkan Boolean Comparison \\'and\\' : \\n((\"{0}\" == \"{1}\" = {2}) and ({3} != {4} = {5})) hasilnya adalah {6}'.format(str1, str2, cstr, bool1, bool2, cbool, cstr and cbool))\n",
        "print('\\nContoh gabungan multiple comparison menggunkan Boolean Comparison \\'or\\' : \\n((\"{0}\" == \"{1}\" = {2}) or ({3} != {4} = {5})) hasilnya adalah {6}'.format(str1, str2, cstr, bool1, bool2, cbool, cstr or cbool))\n",
        "print('\\nContoh gabungan multiple comparison menggunkan Boolean Comparison \\'or\\' : \\nnot(\"{0}\" >= \"{1}\" = {2}) hasilnya adalah {3}'.format(int1, int2, cint, not(cint)))\n"
      ],
      "execution_count": null,
      "outputs": [
        {
          "output_type": "stream",
          "text": [
            "Contoh gabungan multiple comparison menggunkan Boolean Comparison 'and' : \n",
            "((\"RANDY\" == \"randy\" = False) and (True != False = True)) hasilnya adalah False\n",
            "\n",
            "Contoh gabungan multiple comparison menggunkan Boolean Comparison 'or' : \n",
            "((\"RANDY\" == \"randy\" = False) or (True != False = True)) hasilnya adalah True\n",
            "\n",
            "Contoh gabungan multiple comparison menggunkan Boolean Comparison 'or' : \n",
            "not(\"25\" >= \"10\" = True) hasilnya adalah False\n"
          ],
          "name": "stdout"
        }
      ]
    },
    {
      "cell_type": "markdown",
      "metadata": {
        "id": "Yp_g_sPMsrLH"
      },
      "source": [
        "<h2>Soal 3: If-Else Statement</h2>\n",
        "\n",
        "Lengkapi kode untuk menghasilkan suatu output yang di harapkan\n",
        "\n",
        "- Bualah sebuah if-else statement yang dimana akan mem-print 'Besar' jika ruangan adalah 'Kamar' dan ukuran lebih dari 12, kemudian mem-print 'Sedang' jika ruangan adalah 'Kamar' dan ukuran lebih dari 6 dan memprint 'Kecil' jika ruangan adalah 'Kamar' dan ukuran ruangan lebih kecil dan sama dengan 6."
      ]
    },
    {
      "cell_type": "code",
      "metadata": {
        "id": "euRiRNupsrLK",
        "outputId": "db1128b5-2867-4bb4-950f-8bf7e4ef807b",
        "colab": {
          "base_uri": "https://localhost:8080/"
        }
      },
      "source": [
        "ruangan = 'Kamar'\n",
        "size = 20\n",
        "\n",
        "if((ruangan == 'Kamar') and (size > 12)) :\n",
        "    print('Besar')\n",
        "elif((ruangan == 'Kamar') and (size > 6)) :\n",
        "    print('Sedang')\n",
        "elif((ruangan == 'Kamar') and (size <= 6)) :\n",
        "    print('Kecil')"
      ],
      "execution_count": null,
      "outputs": [
        {
          "output_type": "stream",
          "text": [
            "Besar\n"
          ],
          "name": "stdout"
        }
      ]
    },
    {
      "cell_type": "markdown",
      "metadata": {
        "id": "IcoJXJT1srLW"
      },
      "source": [
        "<h2>Soal 4: Comparison Operator dengan fungsi</h2>\n",
        "\n",
        "Buatlah sebuah fungsi yang menerima satu argument bertipe data numeric dan menghasilkan sebuah return sebagai berikut :\n",
        "- menghasilkan return 'Aneh' jika nilai dari argument tersebut adalah bilangan ganjil\n",
        "- menghasilkan return 'Tidak Aneh' jika nilai dari argument tersebut adalah bilangan genap dan diantara nilai 2 sampai 5 (2 dan 5 termasuk)\n",
        "- menghasilkan return 'Aneh' jika nilai dari argument tersebut adalah bilangan genap dan diantara nilai 6 sampai 20 (6 dan 20 termasuk)\n",
        "- menghasilkan return 'Tidak Aneh' jika nilai dari argument tersebut adalah bilangan genap dan lebih besari dari 20"
      ]
    },
    {
      "cell_type": "code",
      "metadata": {
        "id": "g8F_qfEKsrLZ",
        "outputId": "a9b72789-2f1d-4fda-e1bd-173c962cc4d2",
        "colab": {
          "base_uri": "https://localhost:8080/",
          "height": 35
        }
      },
      "source": [
        "# Buat fungsi\n",
        "def komparasi(angka) :\n",
        "  if(angka % 2 != 0) :\n",
        "    return 'Aneh'\n",
        "  else :\n",
        "    if((angka >= 2) and (angka <= 5)) :\n",
        "      return 'Tidak Aneh'\n",
        "    elif((angka >= 6) and (angka <= 20)) :\n",
        "      return 'Aneh'\n",
        "    elif(angka >= 20) :\n",
        "      return 'Tidak Aneh'\n",
        "\n",
        "a = 20\n",
        "komparasi(a)"
      ],
      "execution_count": null,
      "outputs": [
        {
          "output_type": "execute_result",
          "data": {
            "application/vnd.google.colaboratory.intrinsic+json": {
              "type": "string"
            },
            "text/plain": [
              "'Aneh'"
            ]
          },
          "metadata": {
            "tags": []
          },
          "execution_count": 37
        }
      ]
    },
    {
      "cell_type": "markdown",
      "metadata": {
        "id": "gf0D64xOsrLl"
      },
      "source": [
        "<h2>Soal 5: While Loop dan For Loop</h2>\n",
        "\n",
        "- Apa perbedaan while loop dan for loop?\n",
        "- Berikan contoh sederhana cara menggunakan while loop dan for loop"
      ]
    },
    {
      "cell_type": "markdown",
      "metadata": {
        "id": "KEdUZ-AqC-UL"
      },
      "source": [
        "while loop merupakan perulangan yang memiliki syarat dan tidak tentu berapa banyak perulangannya selama kondisinya bernilai benar serta di dalam blok perulangannya terdapat kode untuk menambahkan variabel index iterasi , sedangkan for loop digunakan pada perulangan yang sudah diketahui berapa banyak perulangannya serta variabel iterasinya ada pada argumen for loop. For loop juga dapat digunakan pada iterasi suatu obyek yang berurutan seperti list, tuple, dictionary, set, atau string\n",
        "\n"
      ]
    },
    {
      "cell_type": "code",
      "metadata": {
        "id": "l7KIgpjHsrLo",
        "outputId": "a623a33b-8797-409b-f4f2-ba66949efa53",
        "colab": {
          "base_uri": "https://localhost:8080/"
        }
      },
      "source": [
        "# Tulis Kode\n",
        "i = 0\n",
        "print(\"while loop\")\n",
        "while( i < 5 ) :\n",
        "  print(i, end=\" \")\n",
        "  i += 1\n",
        "\n",
        "print(\"\\nfor loop\")\n",
        "r = 0\n",
        "for r in range(5) :\n",
        "  print(r, end=\" \")\n"
      ],
      "execution_count": null,
      "outputs": [
        {
          "output_type": "stream",
          "text": [
            "while loop\n",
            "0 1 2 3 4 \n",
            "for loop\n",
            "0 1 2 3 4 "
          ],
          "name": "stdout"
        }
      ]
    },
    {
      "cell_type": "markdown",
      "metadata": {
        "id": "fZQpBGCgsrLz"
      },
      "source": [
        "<h2>Soal 6: While Loop</h2>\n",
        "    \n",
        "Buatlah sebuah code while loop sebagai berikut :\n",
        "- Buatlah suatu fungsi yang merima satu input nilai numeric\n",
        "- Dalam fungsi, Buat sebuah while-loop dengan melakukan comparasi terhadap inputan tersebut, dimana looping/iterasi terus berjalan apabila nilai inputan tidak sama dengan 0\n",
        "- Dalam setiap iterasi update nilai variable inputan itu, jika input lebih dari 0, maka kurangi variabel tersebut sebesar 1, selain itu tambahkan 1\n",
        "- print nilai variable input dalam setiap awal iterasi"
      ]
    },
    {
      "cell_type": "code",
      "metadata": {
        "id": "yOiqjrU2srL1",
        "outputId": "839f1538-f46e-489f-f024-31bdf67cf3d0",
        "colab": {
          "base_uri": "https://localhost:8080/"
        }
      },
      "source": [
        "a = 10\n",
        "#a = int(input())\n",
        "\n",
        "def fungsi_while(angka):\n",
        "    while(angka != 0) :\n",
        "      print(angka)\n",
        "      if(angka > 0) :\n",
        "        angka -= 1\n",
        "      elif(angka < 0) :\n",
        "        angka += 1\n",
        "\n",
        "fungsi_while(a)"
      ],
      "execution_count": null,
      "outputs": [
        {
          "output_type": "stream",
          "text": [
            "10\n",
            "9\n",
            "8\n",
            "7\n",
            "6\n",
            "5\n",
            "4\n",
            "3\n",
            "2\n",
            "1\n"
          ],
          "name": "stdout"
        }
      ]
    },
    {
      "cell_type": "markdown",
      "metadata": {
        "id": "lKzngRrlsrMD"
      },
      "source": [
        "Expected Output:\n",
        "\n",
        "10\n",
        "\n",
        "9\n",
        "\n",
        "8\n",
        "\n",
        "7\n",
        "\n",
        "6\n",
        "\n",
        "5\n",
        "\n",
        "4\n",
        "\n",
        "3\n",
        "\n",
        "2\n",
        "\n",
        "1"
      ]
    },
    {
      "cell_type": "markdown",
      "metadata": {
        "id": "IWg3Z_zZsrMG"
      },
      "source": [
        "<h2>Soal 7: For Loop</h2>\n",
        "    \n",
        "Lengkapi kode untuk menghasilkan suatu output yang di harapkan:\n",
        "\n",
        "- Buatlah sebuah loop dengan mengiterasi sebuah objek list kemudian di kalikan dengan index dari list tersebut dan print hasilnya"
      ]
    },
    {
      "cell_type": "code",
      "metadata": {
        "id": "_Jl5i7WKsrMI",
        "outputId": "f6afc049-537a-4aa1-824c-8702908ca822",
        "colab": {
          "base_uri": "https://localhost:8080/"
        }
      },
      "source": [
        "obj_list= [1, 16, 11, 10, 5]\n",
        "\n",
        "# lengkapi code di bawah\n",
        "for ind, isi in enumerate(obj_list):\n",
        "    print(ind * isi)\n"
      ],
      "execution_count": null,
      "outputs": [
        {
          "output_type": "stream",
          "text": [
            "0\n",
            "16\n",
            "22\n",
            "30\n",
            "20\n"
          ],
          "name": "stdout"
        }
      ]
    },
    {
      "cell_type": "markdown",
      "metadata": {
        "id": "OGawROjnsrMU"
      },
      "source": [
        "Expected Output:\n",
        "\n",
        "0\n",
        "\n",
        "16\n",
        "\n",
        "22\n",
        "\n",
        "30\n",
        "\n",
        "20\n"
      ]
    }
  ]
}