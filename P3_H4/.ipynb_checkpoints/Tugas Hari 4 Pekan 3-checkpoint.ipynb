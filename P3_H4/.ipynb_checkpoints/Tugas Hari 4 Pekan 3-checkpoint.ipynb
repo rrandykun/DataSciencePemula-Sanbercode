{
 "cells": [
  {
   "cell_type": "markdown",
   "metadata": {
    "colab_type": "text",
    "id": "WP8NhfI_FpdE"
   },
   "source": [
    "Download [austin_weather.csv](https://drive.google.com/uc?export=download&id=10JkPB2hhDmkVUoCGFP6gpoRL1mvx0OPf)\n",
    "\n"
   ]
  },
  {
   "cell_type": "code",
   "execution_count": null,
   "metadata": {
    "colab": {},
    "colab_type": "code",
    "id": "GQMiqqNuFJDM",
    "outputId": "3af8c590-4f9c-4c59-b6af-32f16765e857"
   },
   "outputs": [
    {
     "data": {
      "text/html": [
       "<div>\n",
       "<style scoped>\n",
       "    .dataframe tbody tr th:only-of-type {\n",
       "        vertical-align: middle;\n",
       "    }\n",
       "\n",
       "    .dataframe tbody tr th {\n",
       "        vertical-align: top;\n",
       "    }\n",
       "\n",
       "    .dataframe thead th {\n",
       "        text-align: right;\n",
       "    }\n",
       "</style>\n",
       "<table border=\"1\" class=\"dataframe\">\n",
       "  <thead>\n",
       "    <tr style=\"text-align: right;\">\n",
       "      <th></th>\n",
       "      <th>Date</th>\n",
       "      <th>TempHighF</th>\n",
       "      <th>TempAvgF</th>\n",
       "      <th>TempLowF</th>\n",
       "      <th>DewPointHighF</th>\n",
       "      <th>DewPointAvgF</th>\n",
       "      <th>DewPointLowF</th>\n",
       "      <th>HumidityHighPercent</th>\n",
       "      <th>HumidityAvgPercent</th>\n",
       "      <th>HumidityLowPercent</th>\n",
       "      <th>...</th>\n",
       "      <th>SeaLevelPressureAvgInches</th>\n",
       "      <th>SeaLevelPressureLowInches</th>\n",
       "      <th>VisibilityHighMiles</th>\n",
       "      <th>VisibilityAvgMiles</th>\n",
       "      <th>VisibilityLowMiles</th>\n",
       "      <th>WindHighMPH</th>\n",
       "      <th>WindAvgMPH</th>\n",
       "      <th>WindGustMPH</th>\n",
       "      <th>PrecipitationSumInches</th>\n",
       "      <th>Events</th>\n",
       "    </tr>\n",
       "  </thead>\n",
       "  <tbody>\n",
       "    <tr>\n",
       "      <th>0</th>\n",
       "      <td>2013-12-21</td>\n",
       "      <td>74</td>\n",
       "      <td>60</td>\n",
       "      <td>45</td>\n",
       "      <td>67</td>\n",
       "      <td>49</td>\n",
       "      <td>43</td>\n",
       "      <td>93</td>\n",
       "      <td>75</td>\n",
       "      <td>57</td>\n",
       "      <td>...</td>\n",
       "      <td>29.68</td>\n",
       "      <td>29.59</td>\n",
       "      <td>10</td>\n",
       "      <td>7</td>\n",
       "      <td>2</td>\n",
       "      <td>20</td>\n",
       "      <td>4</td>\n",
       "      <td>31</td>\n",
       "      <td>0.46</td>\n",
       "      <td>Rain , Thunderstorm</td>\n",
       "    </tr>\n",
       "    <tr>\n",
       "      <th>1</th>\n",
       "      <td>2013-12-22</td>\n",
       "      <td>56</td>\n",
       "      <td>48</td>\n",
       "      <td>39</td>\n",
       "      <td>43</td>\n",
       "      <td>36</td>\n",
       "      <td>28</td>\n",
       "      <td>93</td>\n",
       "      <td>68</td>\n",
       "      <td>43</td>\n",
       "      <td>...</td>\n",
       "      <td>30.13</td>\n",
       "      <td>29.87</td>\n",
       "      <td>10</td>\n",
       "      <td>10</td>\n",
       "      <td>5</td>\n",
       "      <td>16</td>\n",
       "      <td>6</td>\n",
       "      <td>25</td>\n",
       "      <td>0</td>\n",
       "      <td></td>\n",
       "    </tr>\n",
       "    <tr>\n",
       "      <th>2</th>\n",
       "      <td>2013-12-23</td>\n",
       "      <td>58</td>\n",
       "      <td>45</td>\n",
       "      <td>32</td>\n",
       "      <td>31</td>\n",
       "      <td>27</td>\n",
       "      <td>23</td>\n",
       "      <td>76</td>\n",
       "      <td>52</td>\n",
       "      <td>27</td>\n",
       "      <td>...</td>\n",
       "      <td>30.49</td>\n",
       "      <td>30.41</td>\n",
       "      <td>10</td>\n",
       "      <td>10</td>\n",
       "      <td>10</td>\n",
       "      <td>8</td>\n",
       "      <td>3</td>\n",
       "      <td>12</td>\n",
       "      <td>0</td>\n",
       "      <td></td>\n",
       "    </tr>\n",
       "    <tr>\n",
       "      <th>3</th>\n",
       "      <td>2013-12-24</td>\n",
       "      <td>61</td>\n",
       "      <td>46</td>\n",
       "      <td>31</td>\n",
       "      <td>36</td>\n",
       "      <td>28</td>\n",
       "      <td>21</td>\n",
       "      <td>89</td>\n",
       "      <td>56</td>\n",
       "      <td>22</td>\n",
       "      <td>...</td>\n",
       "      <td>30.45</td>\n",
       "      <td>30.3</td>\n",
       "      <td>10</td>\n",
       "      <td>10</td>\n",
       "      <td>7</td>\n",
       "      <td>12</td>\n",
       "      <td>4</td>\n",
       "      <td>20</td>\n",
       "      <td>0</td>\n",
       "      <td></td>\n",
       "    </tr>\n",
       "    <tr>\n",
       "      <th>4</th>\n",
       "      <td>2013-12-25</td>\n",
       "      <td>58</td>\n",
       "      <td>50</td>\n",
       "      <td>41</td>\n",
       "      <td>44</td>\n",
       "      <td>40</td>\n",
       "      <td>36</td>\n",
       "      <td>86</td>\n",
       "      <td>71</td>\n",
       "      <td>56</td>\n",
       "      <td>...</td>\n",
       "      <td>30.33</td>\n",
       "      <td>30.27</td>\n",
       "      <td>10</td>\n",
       "      <td>10</td>\n",
       "      <td>7</td>\n",
       "      <td>10</td>\n",
       "      <td>2</td>\n",
       "      <td>16</td>\n",
       "      <td>T</td>\n",
       "      <td></td>\n",
       "    </tr>\n",
       "  </tbody>\n",
       "</table>\n",
       "<p>5 rows × 21 columns</p>\n",
       "</div>"
      ],
      "text/plain": [
       "         Date  TempHighF  TempAvgF  TempLowF DewPointHighF DewPointAvgF  \\\n",
       "0  2013-12-21         74        60        45            67           49   \n",
       "1  2013-12-22         56        48        39            43           36   \n",
       "2  2013-12-23         58        45        32            31           27   \n",
       "3  2013-12-24         61        46        31            36           28   \n",
       "4  2013-12-25         58        50        41            44           40   \n",
       "\n",
       "  DewPointLowF HumidityHighPercent HumidityAvgPercent HumidityLowPercent  ...  \\\n",
       "0           43                  93                 75                 57  ...   \n",
       "1           28                  93                 68                 43  ...   \n",
       "2           23                  76                 52                 27  ...   \n",
       "3           21                  89                 56                 22  ...   \n",
       "4           36                  86                 71                 56  ...   \n",
       "\n",
       "  SeaLevelPressureAvgInches SeaLevelPressureLowInches VisibilityHighMiles  \\\n",
       "0                     29.68                     29.59                  10   \n",
       "1                     30.13                     29.87                  10   \n",
       "2                     30.49                     30.41                  10   \n",
       "3                     30.45                      30.3                  10   \n",
       "4                     30.33                     30.27                  10   \n",
       "\n",
       "  VisibilityAvgMiles VisibilityLowMiles WindHighMPH WindAvgMPH WindGustMPH  \\\n",
       "0                  7                  2          20          4          31   \n",
       "1                 10                  5          16          6          25   \n",
       "2                 10                 10           8          3          12   \n",
       "3                 10                  7          12          4          20   \n",
       "4                 10                  7          10          2          16   \n",
       "\n",
       "  PrecipitationSumInches               Events  \n",
       "0                   0.46  Rain , Thunderstorm  \n",
       "1                      0                       \n",
       "2                      0                       \n",
       "3                      0                       \n",
       "4                      T                       \n",
       "\n",
       "[5 rows x 21 columns]"
      ]
     },
     "execution_count": 1,
     "metadata": {
      "tags": []
     },
     "output_type": "execute_result"
    }
   ],
   "source": [
    "import pandas as pd\n",
    "import numpy as np\n",
    "import matplotlib.pyplot as plt\n",
    "\n",
    "df = pd.read_csv('austin_weather.csv')\n",
    "df.head()"
   ]
  },
  {
   "cell_type": "code",
   "execution_count": null,
   "metadata": {
    "colab": {},
    "colab_type": "code",
    "id": "HCwi_OKWFJDS",
    "outputId": "e7ff761e-4703-4700-f663-a424c5ecee77"
   },
   "outputs": [
    {
     "name": "stdout",
     "output_type": "stream",
     "text": [
      "<class 'pandas.core.frame.DataFrame'>\n",
      "RangeIndex: 1319 entries, 0 to 1318\n",
      "Data columns (total 21 columns):\n",
      " #   Column                      Non-Null Count  Dtype \n",
      "---  ------                      --------------  ----- \n",
      " 0   Date                        1319 non-null   object\n",
      " 1   TempHighF                   1319 non-null   int64 \n",
      " 2   TempAvgF                    1319 non-null   int64 \n",
      " 3   TempLowF                    1319 non-null   int64 \n",
      " 4   DewPointHighF               1319 non-null   object\n",
      " 5   DewPointAvgF                1319 non-null   object\n",
      " 6   DewPointLowF                1319 non-null   object\n",
      " 7   HumidityHighPercent         1319 non-null   object\n",
      " 8   HumidityAvgPercent          1319 non-null   object\n",
      " 9   HumidityLowPercent          1319 non-null   object\n",
      " 10  SeaLevelPressureHighInches  1319 non-null   object\n",
      " 11  SeaLevelPressureAvgInches   1319 non-null   object\n",
      " 12  SeaLevelPressureLowInches   1319 non-null   object\n",
      " 13  VisibilityHighMiles         1319 non-null   object\n",
      " 14  VisibilityAvgMiles          1319 non-null   object\n",
      " 15  VisibilityLowMiles          1319 non-null   object\n",
      " 16  WindHighMPH                 1319 non-null   object\n",
      " 17  WindAvgMPH                  1319 non-null   object\n",
      " 18  WindGustMPH                 1319 non-null   object\n",
      " 19  PrecipitationSumInches      1319 non-null   object\n",
      " 20  Events                      1319 non-null   object\n",
      "dtypes: int64(3), object(18)\n",
      "memory usage: 216.5+ KB\n"
     ]
    }
   ],
   "source": [
    "df.info()"
   ]
  },
  {
   "cell_type": "markdown",
   "metadata": {
    "colab_type": "text",
    "id": "--yhSaQgFJDW"
   },
   "source": [
    "<h2>Soal 1: Visualisasi Scatter Plot Perbandingan Kuantitatif</h2>\n",
    "\n",
    "Pada tugas kali ini kita akan mengamati nilai DewPointAvg (F) dengan mengamati nilai  HumidityAvg (%), TempAvg (F), dan WindAvg (MPG)\n",
    "\n",
    "Perhatikan bahwa data kita tidaklah siap untuk di analisis, salah satunya tipe data dari DewPointAvg (F), HumidityAvg (%), dan WindAvg (MPG) adalah object, padahalnya data nya ber isi numeric. maka :\n",
    "- Ubahlah tipe data tersebut menjadi tipe data float\n",
    "\n",
    "Kemudian: \n",
    "\n",
    "- Kalian tidak akan dengan mudah mengubah tipe data tersebut karena column tersebut mempunyai nilai '-' yang dimana tidak bisa di ubah ke bentuk float, maka replace lah terlebih dahulu data yang bernilai '-' dengan nilai NaN, gunakan method .replace(). baca dokumentasi https://pandas.pydata.org/pandas-docs/stable/reference/api/pandas.DataFrame.replace.html\n",
    "- Isi nilai nan dengan nilai sebelumnya di row tersebut. gunakan method .fillna() dengan argument method bernilai 'ffill', baca dokumentasi https://pandas.pydata.org/pandas-docs/stable/reference/api/pandas.DataFrame.fillna.html\n",
    "- Sekarang ubah tipe datanya dengan float, gunakan method .astype(), baca dokumentasi https://pandas.pydata.org/pandas-docs/stable/reference/api/pandas.DataFrame.astype.html\n",
    "\n",
    "Setelah ini sebagian data siap untuk di jadikan bahan analisis. maka:\n",
    "\n",
    "Buahlah visualisasi perbandingan kuantitatif scatter plot, sehingga menghasilkan gambar seperti dibawah:\n",
    "\n",
    "ket: \n",
    "\n",
    "- colormap adalah 'coolwarm'\n",
    "- berikat warna terhadap setiap data poin dengan nilai dari column TempAvgF\n",
    "- berikan size terhadap setiap data poin dengan nilai dari column WindAvgMPH, kalikan dengan 20 agar size terlihat lebih besar\n",
    "\n",
    "\n",
    "Berikan pendapat dari insight yang bisa di dapat dari visualisasi perbandingan kuantitatif ini!!!"
   ]
  },
  {
   "cell_type": "markdown",
   "metadata": {
    "colab_type": "text",
    "id": "DboFsM6mFJDX"
   },
   "source": [
    "![alt text](https://drive.google.com/uc?id=1Pp5oIc-39mcw2vrw6xgCRM9GsvyRtPI5)"
   ]
  },
  {
   "cell_type": "code",
   "execution_count": null,
   "metadata": {
    "colab": {},
    "colab_type": "code",
    "id": "CLrba-PDFJDY"
   },
   "outputs": [],
   "source": [
    "# code here"
   ]
  },
  {
   "cell_type": "markdown",
   "metadata": {
    "colab_type": "text",
    "id": "TnjNVy7IH2cH"
   },
   "source": [
    "---"
   ]
  },
  {
   "cell_type": "markdown",
   "metadata": {
    "colab_type": "text",
    "id": "otdwnys0H62n"
   },
   "source": [
    "---"
   ]
  },
  {
   "cell_type": "markdown",
   "metadata": {
    "colab_type": "text",
    "id": "-l4VWD-3H8gf"
   },
   "source": [
    "Downoad  <a href=\"https://blog.sanbercode.com/wp-content/uploads/2020/05/vgsales.csv\">vgsales.csv</a>"
   ]
  },
  {
   "cell_type": "code",
   "execution_count": null,
   "metadata": {
    "colab": {},
    "colab_type": "code",
    "id": "9Ai0_dj_H4uz"
   },
   "outputs": [],
   "source": [
    "import pandas as pd\n",
    "import matplotlib.pyplot as plt\n",
    "\n",
    "df = pd.read_csv('vgsales.csv')\n",
    "df.head()"
   ]
  },
  {
   "cell_type": "markdown",
   "metadata": {
    "colab_type": "text",
    "id": "k7HkS3vbIHi2"
   },
   "source": [
    "<h2>Soal 2: Preparing Data</h2>\n",
    "\n",
    "Manipulasi data tersebut dengan menggroupkan berdasarkan Genre, kemudian ambil rata2 penjualan untuk setiap Region Kecuali Global_Sales berdasarkan kategori Genre."
   ]
  },
  {
   "cell_type": "code",
   "execution_count": null,
   "metadata": {
    "colab": {},
    "colab_type": "code",
    "id": "qNB-rPxfIDHf"
   },
   "outputs": [],
   "source": [
    "#code here"
   ]
  },
  {
   "cell_type": "markdown",
   "metadata": {
    "colab_type": "text",
    "id": "SGww4HDIIQ_w"
   },
   "source": [
    "Expected Output:\n",
    "\n",
    "![alt text](https://drive.google.com/uc?id=1dR4vthSt22gM_LdfSBZCMIKPL6xd7nVl)"
   ]
  },
  {
   "cell_type": "markdown",
   "metadata": {
    "colab_type": "text",
    "id": "KW8ZbhuxIkFp"
   },
   "source": [
    "---"
   ]
  },
  {
   "cell_type": "markdown",
   "metadata": {
    "colab_type": "text",
    "id": "bTBB4n1uIW3h"
   },
   "source": [
    "<h2>Soal 3: Perbandingan Kuantitatif Barplot - Grouping Visualisasi Dengan Barplot</h2>\n",
    "\n",
    "1. Visualisasikan gambar yang tadi kita manipulasi, untuk menghasilkan visualisasi seperti di bawah ini\n",
    "2. Tuliskan apa insight yang bisa kamu dapat dari visualisasi tersebut"
   ]
  },
  {
   "cell_type": "code",
   "execution_count": null,
   "metadata": {
    "colab": {},
    "colab_type": "code",
    "id": "EhSDL668IR6S"
   },
   "outputs": [],
   "source": [
    "#code here"
   ]
  },
  {
   "cell_type": "markdown",
   "metadata": {
    "colab_type": "text",
    "id": "Vtds9OQHI2mG"
   },
   "source": [
    "Jawab:"
   ]
  },
  {
   "cell_type": "markdown",
   "metadata": {
    "colab_type": "text",
    "id": "QYj6zWvJIh2x"
   },
   "source": [
    "Expected Output:\n",
    "\n",
    "![alt text](https://drive.google.com/uc?id=1A2s9Uy2i471VEYIZqMoVUIlZnVOUc8ha)"
   ]
  },
  {
   "cell_type": "markdown",
   "metadata": {
    "colab_type": "text",
    "id": "_EZcVmKuImY3"
   },
   "source": [
    "---"
   ]
  },
  {
   "cell_type": "markdown",
   "metadata": {
    "colab_type": "text",
    "id": "S40muXAkIrzu"
   },
   "source": [
    "<h2>Soal 4: Perbandingan Kuantitatif Barplot - Stack Barplot</h2>\n",
    "\n",
    "1. Visualisasikan gambar yang tadi kita manipulasi, untuk menhasilkan visualisasi seperti di bawah ini\n",
    "2. Tuliskan apa insight yang bisa kamu dapat dari visualisasi tersebut"
   ]
  },
  {
   "cell_type": "code",
   "execution_count": null,
   "metadata": {
    "colab": {},
    "colab_type": "code",
    "id": "ghjkVRCHIgTc"
   },
   "outputs": [],
   "source": [
    "#code here"
   ]
  },
  {
   "cell_type": "markdown",
   "metadata": {
    "colab_type": "text",
    "id": "FVYvYcRTI5w3"
   },
   "source": [
    "Jawab:"
   ]
  },
  {
   "cell_type": "markdown",
   "metadata": {
    "colab_type": "text",
    "id": "TlTJFZF2Iwf-"
   },
   "source": [
    "Expected Output:\n",
    "\n",
    "![alt text](https://drive.google.com/uc?id=1_yis-3aZsEbsk68tpoPHoNlFftaz2GrO)"
   ]
  }
 ],
 "metadata": {
  "colab": {
   "collapsed_sections": [],
   "name": "Tugas Harian 4 week 3.ipynb",
   "provenance": []
  },
  "kernelspec": {
   "display_name": "Python 3",
   "language": "python",
   "name": "python3"
  },
  "language_info": {
   "codemirror_mode": {
    "name": "ipython",
    "version": 3
   },
   "file_extension": ".py",
   "mimetype": "text/x-python",
   "name": "python",
   "nbconvert_exporter": "python",
   "pygments_lexer": "ipython3",
   "version": "3.8.6"
  }
 },
 "nbformat": 4,
 "nbformat_minor": 1
}
